{
  "nbformat": 4,
  "nbformat_minor": 0,
  "metadata": {
    "colab": {
      "name": "GRE.ipynb",
      "provenance": []
    },
    "kernelspec": {
      "name": "python3",
      "display_name": "Python 3"
    },
    "language_info": {
      "name": "python"
    }
  },
  "cells": [
    {
      "cell_type": "code",
      "execution_count": 1,
      "metadata": {
        "id": "7keNqfeHqYO_"
      },
      "outputs": [],
      "source": [
        "import pandas as pd\n",
        "import numpy as np\n",
        "\n",
        "dataset = pd.read_csv('GRE.csv')\n",
        "\n",
        "x = dataset.iloc[:,1:8].values\n",
        "y = dataset.iloc[:,8].values"
      ]
    },
    {
      "cell_type": "code",
      "source": [
        "from sklearn.model_selection import train_test_split\n",
        "\n",
        "x_train , x_test ,y_train ,y_test = train_test_split(x , y ,test_size =1/5 ,random_state = 0)\n",
        "\n",
        "from sklearn.linear_model import LinearRegression\n",
        "\n",
        "regressor = LinearRegression()\n",
        "regressor.fit(x_train,y_train)"
      ],
      "metadata": {
        "colab": {
          "base_uri": "https://localhost:8080/"
        },
        "id": "6A_wz18Gqoff",
        "outputId": "0ac2f5b7-f870-4376-d4fe-e6f10563b9ab"
      },
      "execution_count": 2,
      "outputs": [
        {
          "output_type": "execute_result",
          "data": {
            "text/plain": [
              "LinearRegression()"
            ]
          },
          "metadata": {},
          "execution_count": 2
        }
      ]
    },
    {
      "cell_type": "code",
      "source": [
        "LTL = [[180,\t100,\t3,\t3.5,\t2.5,\t8.57,\t1]]\n",
        "prediction = regressor.predict(LTL)\n",
        "print('MODEL accuracy is : ',regressor.score(x_test,y_test))\n",
        "print('Your chances of admission is :',prediction)\n",
        "destinction = [0.90]\n",
        "c = [0.80]\n",
        "e = [0.70]\n",
        "f = [0.60]\n",
        "g = [0.40]\n",
        "if prediction >= destinction :\n",
        "    print('You have chances of get admission in Harvard university  ')\n",
        "\n",
        "elif prediction >= c <destinction:\n",
        "    print('You have chances of get admission in MIT')\n",
        "\n",
        "elif prediction >=e <c:\n",
        "    print('You have chances of get admission in Stanford university')\n",
        "\n",
        "elif prediction >=f <e:\n",
        "    print('You have chances of get admission in Caltech(California Institute of Technology)')\n",
        "\n",
        "elif prediction >=g <f:\n",
        "    print('You have chances of get admission in UOC (University of Chicago)')\n",
        "\n",
        "elif prediction <g :\n",
        "    print(\"You don't have chances of get admission in top colleges !! Better luck next time:))\")\n",
        "\n"
      ],
      "metadata": {
        "colab": {
          "base_uri": "https://localhost:8080/"
        },
        "id": "m8kE20DRqsUI",
        "outputId": "8b5687b2-0079-481e-97fe-589d1d16cca6"
      },
      "execution_count": 3,
      "outputs": [
        {
          "output_type": "stream",
          "name": "stdout",
          "text": [
            "MODEL accuracy is :  0.7664048993199384\n",
            "Your chances of admission is : [0.3979545]\n",
            "You don't have chances of get admission in top colleges !! Better luck next time:))\n"
          ]
        }
      ]
    }
  ]
}